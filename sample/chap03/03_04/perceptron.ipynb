{
 "cells": [
  {
   "cell_type": "code",
   "execution_count": 1,
   "metadata": {},
   "outputs": [],
   "source": [
    "# ライブラリのインポート\n",
    "import numpy as np\n",
    "import matplotlib.pyplot as plt\n",
    "# グラフのインライン表示\n",
    "%matplotlib inline"
   ]
  },
  {
   "cell_type": "code",
   "execution_count": 2,
   "metadata": {},
   "outputs": [
    {
     "data": {
      "image/png": "[encoded data removed]",
      "text/plain": [
       "<Figure size 432x288 with 1 Axes>"
      ]
     },
     "metadata": {
      "needs_background": "light"
     },
     "output_type": "display_data"
    }
   ],
   "source": [
    "# 学習データを読み込む\n",
    "data = np.loadtxt('negaposi.csv', # 読み込むファイル\n",
    "                   delimiter=',', # 区切り文字を指定\n",
    "                   skiprows=1     # 1行目のタイトルを読み飛ばす\n",
    "                   )\n",
    "x = data[:,0:2] # 1～2列目の成分をxに代入\n",
    "t = data[:,2]   # 2列目の成分をtに代入\n",
    "\n",
    "# y軸の範囲を設定\n",
    "x1 = np.arange(0, 600) \n",
    "\n",
    "# 分類ラベルが1のデータをドットでプロット\n",
    "plt.plot(\n",
    "    x[t ==  1, 0], x[t ==  1, 1], 'o'\n",
    "    )\n",
    "# 分類ラベルが－1のデータをxでプロット\n",
    "plt.plot(\n",
    "    x[t == -1, 0], x[t == -1, 1], 'x'\n",
    "    )\n",
    "# グラフを表示\n",
    "plt.show()"
   ]
  },
  {
   "cell_type": "code",
   "execution_count": 3,
   "metadata": {},
   "outputs": [],
   "source": [
    "def classify(x, w):\n",
    "    '''パーセプトロン（分類関数）\n",
    "    \n",
    "       Parameters:\n",
    "         x(ndarray): x1、x2のデータ\n",
    "         w(ndarray): w1、w2の値\n",
    "       Returns:\n",
    "         (float)更新後の重み w1、w2\n",
    "    '''\n",
    "    if np.dot(w, x) >= 0:\n",
    "        return 1  # w・x≧0 なら1を返す\n",
    "    else:\n",
    "        return -1 # w・x＜0 なら－1を返す"
   ]
  },
  {
   "cell_type": "code",
   "execution_count": 4,
   "metadata": {},
   "outputs": [],
   "source": [
    "def learn_weights(x, t):\n",
    "    '''更新式で重みを学習する\n",
    "    \n",
    "       Parameters:\n",
    "         x(ndarray): x1、x2のデータ\n",
    "         w(ndarray): t(正解ラベル)\n",
    "       Returns:\n",
    "         (int)更新後のw(重み)\n",
    "    '''\n",
    "    w = np.random.rand(2) # 重みの初期化  \n",
    "    epochs = 5            # 学習を繰り返す回数\n",
    "    count = 0             # 繰り返しの回数をカウントする変数\n",
    "\n",
    "    # 指定した回数だけ重みの学習を繰り返す\n",
    "    for i in range(epochs):\n",
    "        # ベクトルx、tから成分を取り出す\n",
    "        for element_x, element_t in zip(x, t):\n",
    "            # 分類関数の出力が異なる場合は重みを更新する\n",
    "            if classify(element_x, w) != element_t:\n",
    "                w = w + element_t * element_x\n",
    "                print('更新後のw = ', w)\n",
    "        count += 1\n",
    "        # ログの出力\n",
    "        print('[{}回目]: w = {}***'.format(count, w))\n",
    "    return w"
   ]
  },
  {
   "cell_type": "code",
   "execution_count": 5,
   "metadata": {},
   "outputs": [
    {
     "name": "stdout",
     "output_type": "stream",
     "text": [
      "更新後のw =  [ -40.53538272 -207.1340869 ]\n",
      "更新後のw =  [448.46461728 191.8659131 ]\n",
      "更新後のw =  [ 200.46461728 -253.1340869 ]\n",
      "更新後のw =  [611.46461728  82.8659131 ]\n",
      "更新後のw =  [ 197.46461728 -365.1340869 ]\n",
      "更新後のw =  [615.46461728 -50.1340869 ]\n",
      "更新後のw =  [ 221.46461728 -481.1340869 ]\n",
      "[1回目]: w = [ 221.46461728 -481.1340869 ]***\n",
      "更新後のw =  [710.46461728 -82.1340869 ]\n",
      "更新後のw =  [ 462.46461728 -527.1340869 ]\n",
      "[2回目]: w = [ 462.46461728 -527.1340869 ]***\n",
      "[3回目]: w = [ 462.46461728 -527.1340869 ]***\n",
      "[4回目]: w = [ 462.46461728 -527.1340869 ]***\n",
      "[5回目]: w = [ 462.46461728 -527.1340869 ]***\n"
     ]
    }
   ],
   "source": [
    "# 訓練データで学習を行う\n",
    "\n",
    "w = learn_weights(x, t)           # 重みw1、w2の値を求める"
   ]
  },
  {
   "cell_type": "code",
   "execution_count": 6,
   "metadata": {},
   "outputs": [
    {
     "data": {
      "image/png": "[encoded data removed]",
      "text/plain": [
       "<Figure size 432x288 with 1 Axes>"
      ]
     },
     "metadata": {
      "needs_background": "light"
     },
     "output_type": "display_data"
    }
   ],
   "source": [
    "# 訓練データと区分線をプロット\n",
    "\n",
    "# 軸の範囲を設定\n",
    "x1 = np.arange(0, 600)    \n",
    "# 分類ラベルが1のデータをドットでプロット\n",
    "plt.plot(\n",
    "    x[t ==  1, 0], x[t ==  1, 1], 'o'\n",
    "    )\n",
    "# 分類ラベルが－1のデータをxでプロット\n",
    "plt.plot(\n",
    "    x[t == -1, 0], x[t == -1, 1], 'x'\n",
    "    )\n",
    "# 境界線をプロット\n",
    "plt.plot(\n",
    "    x1, -w[0] / w[1] * x1, linestyle='solid'\n",
    "    )\n",
    "plt.show()"
   ]
  },
  {
   "cell_type": "code",
   "execution_count": 7,
   "metadata": {},
   "outputs": [
    {
     "data": {
      "text/plain": [
       "1"
      ]
     },
     "execution_count": 7,
     "metadata": {},
     "output_type": "execute_result"
    }
   ],
   "source": [
    "classify([500, 100], w)"
   ]
  }
 ],
 "metadata": {
  "kernelspec": {
   "display_name": "Python 3",
   "language": "python",
   "name": "python3"
  },
  "language_info": {
   "codemirror_mode": {
    "name": "ipython",
    "version": 3
   },
   "file_extension": ".py",
   "mimetype": "text/x-python",
   "name": "python",
   "nbconvert_exporter": "python",
   "pygments_lexer": "ipython3",
   "version": "3.6.12"
  }
 },
 "nbformat": 4,
 "nbformat_minor": 2
}
