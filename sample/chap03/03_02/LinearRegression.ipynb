{
 "cells": [
  {
   "cell_type": "code",
   "execution_count": 1,
   "metadata": {},
   "outputs": [],
   "source": [
    "import numpy as np                    # NumPyをインポート\n",
    "import matplotlib.pyplot as plt       # Matplotlibをインポート\n",
    "%matplotlib inline"
   ]
  },
  {
   "cell_type": "code",
   "execution_count": 2,
   "metadata": {},
   "outputs": [
    {
     "data": {
      "image/png": "[encoded data removed]",
      "text/plain": [
       "<Figure size 432x288 with 1 Axes>"
      ]
     },
     "metadata": {
      "needs_background": "light"
     },
     "output_type": "display_data"
    }
   ],
   "source": [
    "# データのプロット\n",
    "data = np.loadtxt(fname='sales.csv',  # 読み込むファイル\n",
    "                  dtype='int',        # データ型を指定\n",
    "                  delimiter=',',      # 区切り文字を指定\n",
    "                  skiprows=1          # 1行目のタイトルを読み飛ばす\n",
    "                  )\n",
    "train_x = data[:,0]                   # 1列目のデータをxに代入\n",
    "train_y = data[:,1]                   # 2列目のデータをyに代入\n",
    "\n",
    "plt.plot(train_x,                     # x軸に割り当てるデータ\n",
    "         train_y,                     # y軸に割り当てるデータ\n",
    "         'o'                          # ドット(点)をプロットする\n",
    "         ) \n",
    "plt.show()                            # グラフを表示"
   ]
  },
  {
   "cell_type": "code",
   "execution_count": 3,
   "metadata": {},
   "outputs": [],
   "source": [
    "def standardize(x):\n",
    "    '''標準化を行う\n",
    "    \n",
    "    Parameters:\n",
    "      x(ndarray): 標準化前のx\n",
    "    '''\n",
    "    x_mean = x.mean()                 # 平均値を求める\n",
    "    std = x.std()                     # 標準偏差を求める    \n",
    "    return (x - x_mean)/std           # 標準化した値を返す"
   ]
  },
  {
   "cell_type": "code",
   "execution_count": 4,
   "metadata": {},
   "outputs": [
    {
     "data": {
      "image/png": "[encoded data removed]",
      "text/plain": [
       "<Figure size 432x288 with 1 Axes>"
      ]
     },
     "metadata": {
      "needs_background": "light"
     },
     "output_type": "display_data"
    }
   ],
   "source": [
    "# 訓練データを読み込んでxを標準化する\n",
    "data = np.loadtxt(fname='sales.csv',  # 読み込むファイル\n",
    "                  dtype='int',        # データ型を指定\n",
    "                  delimiter=',',      # 区切り文字を指定\n",
    "                  skiprows=1          # 1行目のタイトルを読み飛ばす\n",
    "                  )\n",
    "train_x = data[:,0]                   # 1列目の成分をxに代入\n",
    "train_y = data[:,1]                   # 2列目の成分をyに代入\n",
    "train_x_std = standardize(train_x)    # train_xを標準化\n",
    "train_y_std = standardize(train_y)    # train_yを標準化\n",
    "\n",
    "plt.plot(train_x_std,                 # x軸に割り当てるデータ\n",
    "         train_y_std,                 # y軸に割り当てるデータ\n",
    "         'o'                          # ドット(点)をプロットする\n",
    "         ) \n",
    "plt.show()                            # グラフを表示"
   ]
  },
  {
   "cell_type": "code",
   "execution_count": 5,
   "metadata": {},
   "outputs": [],
   "source": [
    "import tensorflow as tf\n",
    "\n",
    "a = tf.Variable(0.) # 重みを保持するVariableオブジェクト\n",
    "b = tf.Variable(0.) # バイアスを保持するVariableオブジェクト"
   ]
  },
  {
   "cell_type": "code",
   "execution_count": 6,
   "metadata": {},
   "outputs": [],
   "source": [
    "def model(x):\n",
    "    '''回帰モデル y = ax + b\n",
    "    \n",
    "    Parameters:\n",
    "      x(ndarray):分析するデータ\n",
    "    '''\n",
    "    y = a*x + b\n",
    "    return y"
   ]
  },
  {
   "cell_type": "code",
   "execution_count": 7,
   "metadata": {},
   "outputs": [],
   "source": [
    "def loss(y_pred, y_true):\n",
    "    '''MSE(平均二乗誤差)\n",
    "    \n",
    "    Parameters:\n",
    "      y_pred(ndarray): 予測値\n",
    "      y_true(ndarray): 正解値\n",
    "    '''\n",
    "    return tf.math.reduce_mean(tf.math.square(y_pred - y_true))"
   ]
  },
  {
   "cell_type": "code",
   "execution_count": 8,
   "metadata": {},
   "outputs": [
    {
     "name": "stdout",
     "output_type": "stream",
     "text": [
      "Step:5 a = 0.6392353177070618 b = -8.940697071579962e-09\n",
      "Loss = 0.247664213180542\n",
      "Step:10 a = 0.8486999273300171 b = -1.7881394143159923e-08\n",
      "Loss = 0.11228290945291519\n",
      "Step:15 a = 0.9173372983932495 b = -1.3411044719191523e-08\n",
      "Loss = 0.09774645417928696\n",
      "Step:20 a = 0.9398283958435059 b = -1.4901161193847656e-08\n",
      "Loss = 0.096185602247715\n",
      "Step:25 a = 0.9471982717514038 b = -1.4901161193847656e-08\n",
      "Loss = 0.09601801633834839\n",
      "Step:30 a = 0.9496132731437683 b = -1.4901161193847656e-08\n",
      "Loss = 0.09600002318620682\n",
      "Step:35 a = 0.9504045844078064 b = -1.3411045607369942e-08\n",
      "Loss = 0.09599809348583221\n",
      "Step:40 a = 0.9506638646125793 b = -1.4901161193847656e-08\n",
      "Loss = 0.0959978774189949\n",
      "Step:45 a = 0.950748860836029 b = -1.3411044719191523e-08\n",
      "Loss = 0.09599785506725311\n",
      "Step:50 a = 0.9507766962051392 b = -1.3411045607369942e-08\n",
      "Loss = 0.09599785506725311\n"
     ]
    }
   ],
   "source": [
    "learning_rate = 0.1 # 学習率を設定\n",
    "epochs = 50         # 学習回数\n",
    "\n",
    "for i in range(epochs):\n",
    "    # 自動微分による勾配計算を記録するブロック\n",
    "    with tf.GradientTape() as tape:\n",
    "        y_pred = model(train_x_std)\n",
    "        tmp_loss = loss(y_pred, train_y_std)\n",
    "    # tapeに記録された操作を使用して誤差の勾配を計算\n",
    "    gradients = tape.gradient(tmp_loss, [a, b])\n",
    "    # 勾配降下法の更新式を適用してパラメーター値を更新\n",
    "    a.assign_sub(learning_rate * gradients[0])\n",
    "    b.assign_sub(learning_rate * gradients[1])\n",
    "\n",
    "    # 学習5回ごとに結果を出力\n",
    "    if (i + 1) % 5 == 0:\n",
    "        # 処理回数とa、bの値を出力\n",
    "        print('Step:{} a = {} b = {}'.format(\n",
    "            i + 1,     # 処理回数\n",
    "            a.numpy(), # aをndarrayに変換\n",
    "            b.numpy()) # bをndarrayに変換\n",
    "             )\n",
    "        # 損失を出力\n",
    "        print('Loss = {}'.format(tmp_loss))"
   ]
  },
  {
   "cell_type": "code",
   "execution_count": 9,
   "metadata": {},
   "outputs": [
    {
     "data": {
      "image/png": "[encoded data removed]",
      "text/plain": [
       "<Figure size 432x288 with 1 Axes>"
      ]
     },
     "metadata": {
      "needs_background": "light"
     },
     "output_type": "display_data"
    }
   ],
   "source": [
    "# train_x_stdとtrain_y_stdが交差するポイントをプロット\n",
    "plt.scatter(train_x_std, train_y_std)\n",
    "# 更新された重みaとバイアスbをモデルに当てはめ予測値を取得\n",
    "y_learned = a*train_x_std + b\n",
    "# 回帰直線をプロット\n",
    "plt.plot(train_x_std,  y_learned, 'r')\n",
    "plt.grid(True)\n",
    "plt.show()"
   ]
  },
  {
   "cell_type": "code",
   "execution_count": 10,
   "metadata": {},
   "outputs": [
    {
     "name": "stdout",
     "output_type": "stream",
     "text": [
      "予測に使用するxの値を入力してください>300\n"
     ]
    },
    {
     "data": {
      "text/plain": [
       "1947.2206607488235"
      ]
     },
     "execution_count": 10,
     "metadata": {},
     "output_type": "execute_result"
    }
   ],
   "source": [
    "# 任意のx値で予測する\n",
    "input_x = input('予測に使用するxの値を入力してください>')\n",
    "x_mean = train_x.mean()           # xの平均値を求める\n",
    "std = train_x.std()               # xの標準偏差を求める\n",
    "x = (int(input_x) - x_mean)/std   # 入力値を標準化する\n",
    "y = (a*x + b).numpy()             # 更新後のa、bを適用した回帰式で予測\n",
    "y_mean = train_y.mean()           # yの平均値を求める\n",
    "y_std = train_y.std()             # yの標準偏差を求める\n",
    "y*y_std + y_mean                  # 予測値を標準化前の値に戻す"
   ]
  },
  {
   "cell_type": "code",
   "execution_count": null,
   "metadata": {},
   "outputs": [],
   "source": []
  }
 ],
 "metadata": {
  "kernelspec": {
   "display_name": "Python 3",
   "language": "python",
   "name": "python3"
  },
  "language_info": {
   "codemirror_mode": {
    "name": "ipython",
    "version": 3
   },
   "file_extension": ".py",
   "mimetype": "text/x-python",
   "name": "python",
   "nbconvert_exporter": "python",
   "pygments_lexer": "ipython3",
   "version": "3.7.7"
  }
 },
 "nbformat": 4,
 "nbformat_minor": 4
}
