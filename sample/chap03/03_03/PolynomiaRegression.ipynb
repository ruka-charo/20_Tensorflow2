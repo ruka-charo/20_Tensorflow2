{
 "cells": [
  {
   "cell_type": "code",
   "execution_count": 1,
   "metadata": {},
   "outputs": [],
   "source": [
    "# 標準化を行う関数\n",
    "def standardize(x):\n",
    "    # 標準化を行う\n",
    "    # パラメーターx : 標準化前のx\n",
    "    x_mean = x.mean()                 # 平均値を求める\n",
    "    std = x.std()                     # 標準偏差を求める    \n",
    "    return (x - x_mean)/std          # 標準化した値を返す"
   ]
  },
  {
   "cell_type": "code",
   "execution_count": 2,
   "metadata": {},
   "outputs": [],
   "source": [
    "# 訓練データを読み込んでxを標準化する\n",
    "import numpy as np                   # NumPyをインポート\n",
    "\n",
    "data = np.loadtxt(fname='sales.csv',  # 読み込むファイル\n",
    "                  dtype='int',        # データ型を指定\n",
    "                  delimiter=',',      # 区切り文字を指定\n",
    "                  skiprows=1          # 1行目のタイトルを読み飛ばす\n",
    "                  )\n",
    "train_x = data[:,0]                   # 1列目のデータをxに代入\n",
    "train_y = data[:,1]                   # 2列目のデータをyに代入\n",
    "train_x_std = standardize(train_x)    # train_xを標準化\n",
    "train_y_std = standardize(train_y)    # train_yを標準化"
   ]
  },
  {
   "cell_type": "code",
   "execution_count": 3,
   "metadata": {},
   "outputs": [],
   "source": [
    "import tensorflow as tf\n",
    "\n",
    "b = tf.Variable(0.)  # バイアスbを保持するVariableオブジェクト\n",
    "w1 = tf.Variable(0.) # 重みw1を保持するVariableオブジェクト\n",
    "w2 = tf.Variable(0.) # 重みw2を保持するVariableオブジェクト\n",
    "w3 = tf.Variable(0.) # 重みw3を保持するVariableオブジェクト\n",
    "w4 = tf.Variable(0.) # 重みw4を保持するVariableオブジェクト"
   ]
  },
  {
   "cell_type": "code",
   "execution_count": 4,
   "metadata": {},
   "outputs": [],
   "source": [
    "def model(x):\n",
    "    ''' 多項式回帰モデル\n",
    "    \n",
    "    '''   \n",
    "    y = b + w1*x + w2*pow(x, 2) + w3*pow(x, 3) + w4*pow(x, 4)\n",
    "    return y"
   ]
  },
  {
   "cell_type": "code",
   "execution_count": 5,
   "metadata": {},
   "outputs": [],
   "source": [
    "def loss(y_pred, y_true):\n",
    "    '''MSE(平均二乗誤差)\n",
    "    \n",
    "    Parameters:\n",
    "      y_pred(ndarray): 予測値\n",
    "      y_true(ndarray): 正解値\n",
    "    '''\n",
    "    return tf.math.reduce_mean(tf.math.square(y_pred - y_true))"
   ]
  },
  {
   "cell_type": "code",
   "execution_count": 6,
   "metadata": {},
   "outputs": [
    {
     "name": "stdout",
     "output_type": "stream",
     "text": [
      "Step:50\n",
      " a1 = 0.2685434818267822 a2 = 0.02827165275812149\n",
      " a3 = 0.250828355550766 a4 = 0.028520546853542328\n",
      " b = -0.04034848138689995\n",
      " Loss = 0.17421622574329376\n",
      "Step:100\n",
      " a1 = 0.3970474302768707 a2 = 0.05889112502336502\n",
      " a3 = 0.20271700620651245 a4 = 0.024918755516409874\n",
      " b = -0.07001537829637527\n",
      " Loss = 0.13260361552238464\n",
      "Step:150\n",
      " a1 = 0.5059216618537903 a2 = 0.08497073501348495\n",
      " a3 = 0.16168782114982605 a4 = 0.021987423300743103\n",
      " b = -0.09625568985939026\n",
      " Loss = 0.10256266593933105\n",
      "Step:200\n",
      " a1 = 0.598282516002655 a2 = 0.10732477158308029\n",
      " a3 = 0.12687326967716217 a4 = 0.019497673958539963\n",
      " b = -0.11907879263162613\n",
      " Loss = 0.080870620906353\n"
     ]
    }
   ],
   "source": [
    "learning_rate = 0.01 # 学習率を設定\n",
    "epochs = 200         # 学習回数\n",
    "\n",
    "for i in range(epochs):\n",
    "    # 自動微分による勾配計算を記録するブロック\n",
    "    with tf.GradientTape() as tape:\n",
    "        y_pred = model(train_x_std)\n",
    "        tmp_loss = loss(y_pred, train_y_std)\n",
    "    # tapeに記録された操作を使用して誤差の勾配を計算\n",
    "    gradients = tape.gradient(tmp_loss, [b, w1, w2, w3, w4])\n",
    "    # 勾配降下法の更新式を適用してパラメーター値を更新\n",
    "    b.assign_sub(learning_rate * gradients[0])\n",
    "    w1.assign_sub(learning_rate * gradients[1])\n",
    "    w2.assign_sub(learning_rate * gradients[2])\n",
    "    w3.assign_sub(learning_rate * gradients[3])\n",
    "    w4.assign_sub(learning_rate * gradients[4])\n",
    "\n",
    "    # 学習50回ごとに結果を出力\n",
    "    if (i + 1) % 50 == 0:\n",
    "        # 処理回数とa、bの値を出力\n",
    "        print('Step:{}\\n a1 = {} a2 = {}\\n a3 = {} a4 = {}\\n b = {}'.format(\n",
    "            i + 1,      # 学習回数\n",
    "            w1.numpy(), # a1をndarrayに変換\n",
    "            w2.numpy(), # a2をndarrayに変換\n",
    "            w3.numpy(), # a3をndarrayに変換\n",
    "            w4.numpy(), # a4をndarrayに変換\n",
    "            b.numpy())  # bをndarrayに変換\n",
    "             )\n",
    "        # 損失を出力\n",
    "        print(' Loss = {}'.format(tmp_loss))"
   ]
  },
  {
   "cell_type": "code",
   "execution_count": 7,
   "metadata": {},
   "outputs": [
    {
     "data": {
      "image/png": "[encoded data removed]",
      "text/plain": [
       "<Figure size 432x288 with 1 Axes>"
      ]
     },
     "metadata": {
      "needs_background": "light"
     },
     "output_type": "display_data"
    }
   ],
   "source": [
    "import matplotlib.pyplot as plt\n",
    "%matplotlib inline\n",
    "\n",
    "# train_x_stdとtrain_y_stdが交差するポイントをプロット\n",
    "plt.scatter(train_x_std, train_y_std)\n",
    "# x軸の値として-3から3までの等差数列を生成\n",
    "x_axis = np.linspace(start=-2,    # 数列の始点\n",
    "                     stop=2,      # 数列の終点\n",
    "                     num=100      # 等差数列の要素数\n",
    "                     )\n",
    "\n",
    "# 更新されたバイアスと重みをモデルに当てはめる\n",
    "y_learned = b + w1*x_axis + w2*pow(x_axis, 2) + \\\n",
    "                w3*pow(x_axis, 3) + w4*pow(x_axis, 4)\n",
    "\n",
    "plt.plot(x_axis,  y_learned, 'r')\n",
    "plt.grid(True)\n",
    "plt.show()"
   ]
  },
  {
   "cell_type": "code",
   "execution_count": null,
   "metadata": {},
   "outputs": [],
   "source": []
  }
 ],
 "metadata": {
  "kernelspec": {
   "display_name": "Python 3",
   "language": "python",
   "name": "python3"
  },
  "language_info": {
   "codemirror_mode": {
    "name": "ipython",
    "version": 3
   },
   "file_extension": ".py",
   "mimetype": "text/x-python",
   "name": "python",
   "nbconvert_exporter": "python",
   "pygments_lexer": "ipython3",
   "version": "3.7.7"
  }
 },
 "nbformat": 4,
 "nbformat_minor": 4
}
