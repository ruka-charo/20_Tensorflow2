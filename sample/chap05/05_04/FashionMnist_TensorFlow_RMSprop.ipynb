{
 "cells": [
  {
   "cell_type": "code",
   "execution_count": 1,
   "metadata": {},
   "outputs": [],
   "source": [
    "'''\n",
    "1. データセットの読み込み \n",
    "'''\n",
    "# tensorflow.keras のインポート\n",
    "from tensorflow import keras\n",
    "# Fashion-MNISTデータセットの読み込み\n",
    "(x_train, t_train), (x_test, t_test) = keras.datasets.fashion_mnist.load_data()"
   ]
  },
  {
   "cell_type": "code",
   "execution_count": 2,
   "metadata": {},
   "outputs": [],
   "source": [
    "'''\n",
    "2. (28,28)の画像データを(784)のベクトルに変換して正規化を行う \n",
    "'''\n",
    "# (60000, 28, 28)の訓練データを(60000, 784)の2階テンソルに変換\n",
    "tr_x = x_train.reshape(-1, 784)\n",
    "# 訓練データをfloat32(浮動小数点数)型に、255で割ってスケール変換する\n",
    "tr_x = tr_x.astype('float32') / 255\n",
    "\n",
    "# (10000, 28, 28)のテストデータを(10000, 784)の2階テンソルに変換\n",
    "ts_x = x_test.reshape(-1, 784)\n",
    "# テストデータをfloat32(浮動小数点数)型に、255で割ってスケール変換する\n",
    "ts_x = ts_x.astype('float32') / 255"
   ]
  },
  {
   "cell_type": "code",
   "execution_count": 3,
   "metadata": {},
   "outputs": [],
   "source": [
    "'''\n",
    "3. 正解ラベルのOne-Hotエンコーディング\n",
    "'''\n",
    "# tensorflow.keras のインポート\n",
    "from tensorflow import keras\n",
    "\n",
    "# クラスの数\n",
    "class_num = 10\n",
    "# 訓練データの正解ラベルをOne-Hot表現に変換\n",
    "tr_t = keras.utils.to_categorical(t_train, class_num)\n",
    "# テストデータの正解ラベルをOne-Hot表現に変換\n",
    "ts_t = keras.utils.to_categorical(t_test, class_num)"
   ]
  },
  {
   "cell_type": "code",
   "execution_count": 4,
   "metadata": {},
   "outputs": [],
   "source": [
    "'''\n",
    "4.モデルの作成\n",
    "'''\n",
    "class MLP(keras.Model):\n",
    "    '''多層パーセプトロン\n",
    "    \n",
    "    Attributes:\n",
    "      l1(Dense): 隠れ層\n",
    "      l2(Dense): 出力層\n",
    "    '''\n",
    "    def __init__(self, hidden_dim, output_dim):\n",
    "        '''\n",
    "        Parameters:\n",
    "          hidden_dim(int): 隠れ層のユニット数(次元)\n",
    "          output_dim(int): 出力層のユニット数(次元)\n",
    "        '''\n",
    "        super().__init__()\n",
    "        # 隠れ層：活性化関数はReLU\n",
    "        self.l1 = keras.layers.Dense(hidden_dim, activation='relu')\n",
    "        # 出力層：活性化関数はソフトマックス\n",
    "        self.l2 = keras.layers.Dense(output_dim, activation='softmax')\n",
    "\n",
    "    def call(self, x):\n",
    "        '''MLPのインスタンスからコールバックされる関数\n",
    "        \n",
    "        Parameters: x(ndarray(float32)):訓練データ、または検証データ\n",
    "        Returns(float32): MLPの出力として要素数3の1階テンソル        \n",
    "        '''\n",
    "        h = self.l1(x) # 第1層の出力\n",
    "        y = self.l2(h) # 出力層の出力\n",
    "        return y"
   ]
  },
  {
   "cell_type": "code",
   "execution_count": 5,
   "metadata": {},
   "outputs": [],
   "source": [
    "'''\n",
    "5.損失関数の定義\n",
    "'''\n",
    "# マルチクラス分類のクロスエントロピー誤差を求めるオブジェクト\n",
    "cce = keras.losses.CategoricalCrossentropy()\n",
    "\n",
    "def loss(t, y):\n",
    "    '''損失関数\n",
    "    Parameters: t(ndarray(float32)):正解ラベル\n",
    "                y(ndarray(float32)):予測値\n",
    "                \n",
    "    Returns: クロスエントロピー誤差\n",
    "    '''\n",
    "    return cce(t, y)"
   ]
  },
  {
   "cell_type": "code",
   "execution_count": 6,
   "metadata": {},
   "outputs": [],
   "source": [
    "'''\n",
    "6.勾配降下アルゴリズムによるパラメーターの更新処理\n",
    "'''\n",
    "import tensorflow as tf\n",
    "\n",
    "# 勾配降下アルゴリズムを使用するオプティマイザーを生成\n",
    "optimizer = keras.optimizers.RMSprop(learning_rate=0.001)\n",
    "\n",
    "# 損失を記録するオブジェクトを生成\n",
    "train_loss = keras.metrics.Mean()\n",
    "# カテゴリカルデータの精度を記録するオブジェクトを生成\n",
    "train_acc = keras.metrics.CategoricalAccuracy()\n",
    "\n",
    "def train_step(x, t):\n",
    "    '''学習を1回行う\n",
    "    \n",
    "    Parameters: x(ndarray(float32)):訓練データ\n",
    "                t(ndarray(float32)):正解ラベル\n",
    "                \n",
    "    Returns:\n",
    "      ステップごとのクロスエントロピー誤差\n",
    "    '''\n",
    "    # 自動微分による勾配計算を記録するブロック\n",
    "    with tf.GradientTape() as tape:\n",
    "        # モデルに入力して順伝搬の出力値を取得\n",
    "        outputs = model(x)\n",
    "        # 出力値と正解ラベルの誤差\n",
    "        tmp_loss = loss(t, outputs)\n",
    "        \n",
    "    # tapeに記録された操作を使用して誤差の勾配を計算        \n",
    "    grads = tape.gradient(\n",
    "        # 現在のステップの誤差\n",
    "        tmp_loss,\n",
    "        # バイアス、重みのリストを取得\n",
    "        model.trainable_variables)\n",
    "    # 勾配降下法の更新式を適用してバイアス、重みを更新\n",
    "    optimizer.apply_gradients(zip(grads,\n",
    "                                  model.trainable_variables))\n",
    "    \n",
    "    # 損失をMeanオブジェクトに記録\n",
    "    train_loss(tmp_loss)\n",
    "    # 精度をCategoricalAccuracyオブジェクトに記録\n",
    "    train_acc(t, outputs)\n",
    "        \n",
    "    return tmp_loss"
   ]
  },
  {
   "cell_type": "code",
   "execution_count": 7,
   "metadata": {
    "scrolled": true
   },
   "outputs": [],
   "source": [
    "'''\n",
    "7.訓練データと検証データの用意\n",
    "'''\n",
    "from sklearn.model_selection import train_test_split\n",
    "\n",
    "# 訓練データと検証データに8：2の割合で分割  \\は行継続文字\n",
    "x_train, x_validation, t_train, t_validation = \\\n",
    "    train_test_split(tr_x, tr_t, test_size=0.2)"
   ]
  },
  {
   "cell_type": "code",
   "execution_count": 8,
   "metadata": {
    "scrolled": false
   },
   "outputs": [
    {
     "name": "stdout",
     "output_type": "stream",
     "text": [
      "epoch(10) train_loss: 0.3174 train_acc: 0.8857\n",
      "epoch(20) train_loss: 0.2569 train_acc: 0.9089\n",
      "epoch(30) train_loss: 0.2218 train_acc: 0.9226\n",
      "epoch(40) train_loss: 0.1977 train_acc: 0.932\n",
      "epoch(50) train_loss: 0.1804 train_acc: 0.9388\n",
      "epoch(60) train_loss: 0.1669 train_acc: 0.9441\n",
      "epoch(70) train_loss: 0.1562 train_acc: 0.9483\n",
      "epoch(80) train_loss: 0.1476 train_acc: 0.9517\n",
      "epoch(90) train_loss: 0.1404 train_acc: 0.9546\n",
      "epoch(100) train_loss: 0.1342 train_acc: 0.9571\n",
      "Wall time: 18min 52s\n"
     ]
    }
   ],
   "source": [
    "%%time\n",
    "'''\n",
    "8.モデルを生成して学習する\n",
    "'''\n",
    "from sklearn.utils import shuffle\n",
    "\n",
    "# エポック数\n",
    "epochs = 100\n",
    "# ミニバッチのサイズ\n",
    "batch_size = 64\n",
    "#ステップ数\n",
    "steps = x_train.shape[0] // batch_size\n",
    "\n",
    "# 隠れ層256ユニット、出力層10ユニットのモデルを生成\n",
    "model = MLP(256, 10)\n",
    "\n",
    "# 学習を行う\n",
    "for epoch in range(epochs):\n",
    "    # 訓練データと正解ラベルをシャッフル\n",
    "    x_, t_ = shuffle(x_train, t_train, random_state=1)\n",
    "    \n",
    "    # 1ステップにおけるミニバッチを使用した学習\n",
    "    for step in range(steps):\n",
    "        start = step * batch_size # ミニバッチの先頭インデックス\n",
    "        end = start + batch_size # ミニバッチの末尾のインデックス\n",
    "        # ミニバッチでバイアス、重みを更新して誤差を取得\n",
    "        tmp_loss = train_step(x_[start:end], t_[start:end])\n",
    "        \n",
    "    # 1エポックごとに結果を出力\n",
    "    if (epoch + 1) % 10 == 0:\n",
    "        print('epoch({}) train_loss: {:.4} train_acc: {:.4}'.format(\n",
    "            epoch+1,\n",
    "            train_loss.result(), # 現在の損失を出力\n",
    "            train_acc.result()   # 現在の精度を出力\n",
    "    ))"
   ]
  },
  {
   "cell_type": "code",
   "execution_count": 9,
   "metadata": {},
   "outputs": [
    {
     "name": "stdout",
     "output_type": "stream",
     "text": [
      "validation_loss: 1.0461, validation_acc: 0.8819\n"
     ]
    }
   ],
   "source": [
    "'''\n",
    "9. 検証データによるモデルの評価\n",
    "'''\n",
    "# 検証データの予測値を取得\n",
    "val_preds = model(x_validation)\n",
    "# カテゴリカルデータの精度を取得するオブジェクト\n",
    "categor_acc = tf.keras.metrics.CategoricalAccuracy()\n",
    "# 精度を測定するデータを設定\n",
    "categor_acc.update_state(t_validation, val_preds)\n",
    "# 検証データの精度を取得\n",
    "validation_acc = categor_acc.result().numpy()\n",
    "# 検証データの損失を取得\n",
    "validation_loss = loss(t_validation, val_preds)\n",
    "\n",
    "print('validation_loss: {:.4f}, validation_acc: {:.4f}'.format(\n",
    "    validation_loss,\n",
    "    validation_acc\n",
    "))"
   ]
  },
  {
   "cell_type": "code",
   "execution_count": 10,
   "metadata": {},
   "outputs": [
    {
     "name": "stdout",
     "output_type": "stream",
     "text": [
      "test_loss: 1.1122, test_acc: 0.8751\n"
     ]
    }
   ],
   "source": [
    "'''\n",
    "10. テストデータによるモデルの評価\n",
    "'''\n",
    "# テストデータの予測値を取得\n",
    "test_preds = model(ts_x)\n",
    "# カテゴリカルデータの精度を取得するオブジェクト\n",
    "categor_acc = tf.keras.metrics.CategoricalAccuracy()\n",
    "# 精度を測定するデータを設定\n",
    "categor_acc.update_state(ts_t, test_preds)\n",
    "# テストデータの精度を取得\n",
    "test_acc = categor_acc.result().numpy()\n",
    "# テストデータの損失を取得\n",
    "test_loss = loss(ts_t, test_preds)\n",
    "\n",
    "print('test_loss: {:.4f}, test_acc: {:.4f}'.format(\n",
    "    test_loss,\n",
    "    test_acc\n",
    "))"
   ]
  },
  {
   "cell_type": "code",
   "execution_count": null,
   "metadata": {},
   "outputs": [],
   "source": []
  }
 ],
 "metadata": {
  "kernelspec": {
   "display_name": "Python 3",
   "language": "python",
   "name": "python3"
  },
  "language_info": {
   "codemirror_mode": {
    "name": "ipython",
    "version": 3
   },
   "file_extension": ".py",
   "mimetype": "text/x-python",
   "name": "python",
   "nbconvert_exporter": "python",
   "pygments_lexer": "ipython3",
   "version": "3.7.7"
  }
 },
 "nbformat": 4,
 "nbformat_minor": 4
}
