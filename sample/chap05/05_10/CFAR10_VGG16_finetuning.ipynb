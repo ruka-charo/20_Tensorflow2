{
 "cells": [
  {
   "cell_type": "code",
   "execution_count": 1,
   "metadata": {},
   "outputs": [],
   "source": [
    "'''\n",
    "1.CIFAR-10データセットを読み込み64×64にリサイズする\n",
    "'''\n",
    "from tensorflow.keras import datasets\n",
    "import tensorflow as tf\n",
    "\n",
    "(x_train, t_train), (x_test, t_test) = datasets.cifar10.load_data()\n",
    "x_train = tf.image.resize(x_train, [64, 64])"
   ]
  },
  {
   "cell_type": "code",
   "execution_count": 2,
   "metadata": {},
   "outputs": [
    {
     "data": {
      "text/plain": [
       "TensorShape([50000, 64, 64, 3])"
      ]
     },
     "execution_count": 2,
     "metadata": {},
     "output_type": "execute_result"
    }
   ],
   "source": [
    "'''\n",
    "2.リサイズ後の訓練データの形状を出力\n",
    "'''\n",
    "x_train.shape"
   ]
  },
  {
   "cell_type": "code",
   "execution_count": 3,
   "metadata": {},
   "outputs": [
    {
     "name": "stdout",
     "output_type": "stream",
     "text": [
      "Model: \"sequential\"\n",
      "_________________________________________________________________\n",
      "Layer (type)                 Output Shape              Param #   \n",
      "=================================================================\n",
      "vgg16 (Model)                (None, 2, 2, 512)         14714688  \n",
      "_________________________________________________________________\n",
      "global_max_pooling2d (Global (None, 512)               0         \n",
      "_________________________________________________________________\n",
      "dense (Dense)                (None, 512)               262656    \n",
      "_________________________________________________________________\n",
      "dropout (Dropout)            (None, 512)               0         \n",
      "_________________________________________________________________\n",
      "dense_1 (Dense)              (None, 10)                5130      \n",
      "=================================================================\n",
      "Total params: 14,982,474\n",
      "Trainable params: 7,347,210\n",
      "Non-trainable params: 7,635,264\n",
      "_________________________________________________________________\n"
     ]
    }
   ],
   "source": [
    "'''\n",
    "3.モデルの生成とコンパイル\n",
    "'''\n",
    "from tensorflow.keras.applications import VGG16\n",
    "from tensorflow.keras import models, layers, optimizers, regularizers\n",
    "\n",
    "   \n",
    "# VGG16モデルを学習済みの重みと共に読み込む\n",
    "pre_trained_model = VGG16(\n",
    "    include_top=False,      # 全結合層（FC）は読み込まない\n",
    "    weights='imagenet',      # ImageNetで学習した重みを利用\n",
    "    input_shape=(64, 64, 3)  # 入力データの形状\n",
    ")\n",
    "\n",
    "for layer in pre_trained_model.layers[:15]:\n",
    "    # 第1～第15層までの重みを凍結\n",
    "    layer.trainable = False\n",
    "\n",
    "for layer in pre_trained_model.layers[15:]:\n",
    "    # 第16層以降の重みを更新可能にする\n",
    "    layer.trainable = True\n",
    "\n",
    "# Sequentualオブジェクトを生成\n",
    "model = models.Sequential()\n",
    "\n",
    "# VGG16モデルを追加\n",
    "model.add(pre_trained_model)\n",
    "\n",
    "# (batch_size, rows, cols, channels)の4階テンソルに\n",
    "# プーリング演算適用後、(batch_size, channels)の2階テンソルにフラット化\n",
    "model.add(\n",
    "    layers.GlobalMaxPooling2D())\n",
    "\n",
    "# 全結合層\n",
    "model.add(\n",
    "    layers.Dense(\n",
    "        512,               # ユニット数512\n",
    "        activation='relu') # 活性化関数はReLU\n",
    ")\n",
    "# 50%のドロップアウト\n",
    "model.add(layers.Dropout(0.5))\n",
    "\n",
    "# 出力層\n",
    "model.add(\n",
    "    layers.Dense(\n",
    "        10,                    # ユニット数10\n",
    "        activation='softmax') # 活性化関数はsoftmax\n",
    ")\n",
    "\n",
    "# モデルのコンパイル\n",
    "model.compile(\n",
    "    # 損失関数はスパースラベル対応クロスエントロピー誤差\n",
    "    loss='sparse_categorical_crossentropy',\n",
    "    # オプティマイザーはAdam\n",
    "    optimizer=optimizers.Adam(lr=0.001),\n",
    "    metrics=['accuracy'])\n",
    "\n",
    "# コンパイル後のサマリを表示\n",
    "model.summary()"
   ]
  },
  {
   "cell_type": "code",
   "execution_count": 4,
   "metadata": {
    "scrolled": false
   },
   "outputs": [
    {
     "name": "stdout",
     "output_type": "stream",
     "text": [
      "Train for 625 steps, validate for 157 steps\n",
      "Epoch 1/50\n",
      "625/625 [==============================] - 1796s 3s/step - loss: 1.5509 - accuracy: 0.4198 - val_loss: 0.9987 - val_accuracy: 0.6578\n",
      "Epoch 2/50\n",
      "625/625 [==============================] - 1865s 3s/step - loss: 0.8504 - accuracy: 0.7106 - val_loss: 0.7640 - val_accuracy: 0.7365\n",
      "Epoch 3/50\n",
      "625/625 [==============================] - 1855s 3s/step - loss: 0.7334 - accuracy: 0.7521 - val_loss: 0.7404 - val_accuracy: 0.7542\n",
      "Epoch 4/50\n",
      "625/625 [==============================] - 1898s 3s/step - loss: 0.6893 - accuracy: 0.7671 - val_loss: 0.7159 - val_accuracy: 0.7521\n",
      "Epoch 5/50\n",
      "625/625 [==============================] - 1858s 3s/step - loss: 0.6424 - accuracy: 0.7831 - val_loss: 0.7223 - val_accuracy: 0.7605\n",
      "Epoch 6/50\n",
      "625/625 [==============================] - 1919s 3s/step - loss: 0.6064 - accuracy: 0.7969 - val_loss: 0.7248 - val_accuracy: 0.7688\n",
      "Epoch 7/50\n",
      "625/625 [==============================] - 1886s 3s/step - loss: 0.5849 - accuracy: 0.8013 - val_loss: 0.7006 - val_accuracy: 0.7709\n",
      "Epoch 8/50\n",
      "625/625 [==============================] - 1882s 3s/step - loss: 0.5667 - accuracy: 0.8105 - val_loss: 0.6688 - val_accuracy: 0.7740\n",
      "Epoch 9/50\n",
      "625/625 [==============================] - 1885s 3s/step - loss: 0.5434 - accuracy: 0.8158 - val_loss: 0.6647 - val_accuracy: 0.7793\n",
      "Epoch 10/50\n",
      "625/625 [==============================] - 1874s 3s/step - loss: 0.5232 - accuracy: 0.8227 - val_loss: 0.6644 - val_accuracy: 0.7804\n",
      "Epoch 11/50\n",
      "625/625 [==============================] - 1886s 3s/step - loss: 0.4510 - accuracy: 0.8475 - val_loss: 0.6373 - val_accuracy: 0.7932\n",
      "Epoch 12/50\n",
      "625/625 [==============================] - 1889s 3s/step - loss: 0.4204 - accuracy: 0.8569 - val_loss: 0.6168 - val_accuracy: 0.8025\n",
      "Epoch 13/50\n",
      "625/625 [==============================] - 1780s 3s/step - loss: 0.4027 - accuracy: 0.8632 - val_loss: 0.6144 - val_accuracy: 0.8002\n",
      "Epoch 14/50\n",
      "625/625 [==============================] - 1749s 3s/step - loss: 0.3933 - accuracy: 0.8651 - val_loss: 0.6576 - val_accuracy: 0.7987\n",
      "Epoch 15/50\n",
      "625/625 [==============================] - 1753s 3s/step - loss: 0.3827 - accuracy: 0.8684 - val_loss: 0.6660 - val_accuracy: 0.7974\n",
      "Epoch 16/50\n",
      "625/625 [==============================] - 1748s 3s/step - loss: 0.3749 - accuracy: 0.8709 - val_loss: 0.6285 - val_accuracy: 0.8009\n",
      "Epoch 17/50\n",
      "625/625 [==============================] - 1747s 3s/step - loss: 0.3689 - accuracy: 0.8740 - val_loss: 0.6554 - val_accuracy: 0.8021\n",
      "Epoch 18/50\n",
      "625/625 [==============================] - 1748s 3s/step - loss: 0.3558 - accuracy: 0.8776 - val_loss: 0.6804 - val_accuracy: 0.8035\n",
      "Epoch 19/50\n",
      "625/625 [==============================] - 1752s 3s/step - loss: 0.3440 - accuracy: 0.8813 - val_loss: 0.6828 - val_accuracy: 0.7982\n",
      "Epoch 20/50\n",
      "625/625 [==============================] - 1746s 3s/step - loss: 0.3404 - accuracy: 0.8816 - val_loss: 0.6721 - val_accuracy: 0.8008\n",
      "Epoch 21/50\n",
      "625/625 [==============================] - 1744s 3s/step - loss: 0.2936 - accuracy: 0.8986 - val_loss: 0.6465 - val_accuracy: 0.8141\n",
      "Epoch 22/50\n",
      "625/625 [==============================] - 1747s 3s/step - loss: 0.2822 - accuracy: 0.9015 - val_loss: 0.6489 - val_accuracy: 0.8085\n",
      "Epoch 23/50\n",
      "625/625 [==============================] - 1747s 3s/step - loss: 0.2762 - accuracy: 0.9052 - val_loss: 0.6492 - val_accuracy: 0.8082\n",
      "Epoch 24/50\n",
      "625/625 [==============================] - 1745s 3s/step - loss: 0.2705 - accuracy: 0.9061 - val_loss: 0.6581 - val_accuracy: 0.8075\n",
      "Epoch 25/50\n",
      "625/625 [==============================] - 1751s 3s/step - loss: 0.2591 - accuracy: 0.9113 - val_loss: 0.6406 - val_accuracy: 0.8129\n",
      "Epoch 26/50\n",
      "625/625 [==============================] - 1745s 3s/step - loss: 0.2524 - accuracy: 0.9122 - val_loss: 0.6639 - val_accuracy: 0.8126\n",
      "Epoch 27/50\n",
      "625/625 [==============================] - 1750s 3s/step - loss: 0.2392 - accuracy: 0.9169 - val_loss: 0.6863 - val_accuracy: 0.8115\n",
      "Epoch 28/50\n",
      "625/625 [==============================] - 1750s 3s/step - loss: 0.2420 - accuracy: 0.9147 - val_loss: 0.7218 - val_accuracy: 0.8081\n",
      "Epoch 29/50\n",
      "625/625 [==============================] - 1748s 3s/step - loss: 0.2362 - accuracy: 0.9190 - val_loss: 0.6752 - val_accuracy: 0.8108\n",
      "Epoch 30/50\n",
      "625/625 [==============================] - 1745s 3s/step - loss: 0.2278 - accuracy: 0.9212 - val_loss: 0.7013 - val_accuracy: 0.8079\n",
      "Epoch 31/50\n",
      "625/625 [==============================] - 1749s 3s/step - loss: 0.2109 - accuracy: 0.9278 - val_loss: 0.7008 - val_accuracy: 0.8127\n",
      "Epoch 32/50\n",
      "625/625 [==============================] - 1745s 3s/step - loss: 0.2034 - accuracy: 0.9298 - val_loss: 0.7073 - val_accuracy: 0.8082\n",
      "Epoch 33/50\n",
      "625/625 [==============================] - 1747s 3s/step - loss: 0.2004 - accuracy: 0.9319 - val_loss: 0.7320 - val_accuracy: 0.8069\n",
      "Epoch 34/50\n",
      "625/625 [==============================] - 1750s 3s/step - loss: 0.1932 - accuracy: 0.9327 - val_loss: 0.7167 - val_accuracy: 0.8111\n",
      "Epoch 35/50\n",
      "625/625 [==============================] - 1748s 3s/step - loss: 0.1894 - accuracy: 0.9339 - val_loss: 0.7591 - val_accuracy: 0.8096\n",
      "Epoch 36/50\n",
      "625/625 [==============================] - 1744s 3s/step - loss: 0.1861 - accuracy: 0.9359 - val_loss: 0.7580 - val_accuracy: 0.8093\n",
      "Epoch 37/50\n",
      "625/625 [==============================] - 1749s 3s/step - loss: 0.1819 - accuracy: 0.9385 - val_loss: 0.7304 - val_accuracy: 0.8075\n",
      "Epoch 38/50\n",
      "625/625 [==============================] - 1764s 3s/step - loss: 0.1870 - accuracy: 0.9355 - val_loss: 0.7479 - val_accuracy: 0.8115\n",
      "Epoch 39/50\n",
      "625/625 [==============================] - 1794s 3s/step - loss: 0.1765 - accuracy: 0.9388 - val_loss: 0.7409 - val_accuracy: 0.8124\n",
      "Epoch 40/50\n",
      "625/625 [==============================] - 1790s 3s/step - loss: 0.1743 - accuracy: 0.9408 - val_loss: 0.7634 - val_accuracy: 0.8136\n",
      "Epoch 41/50\n",
      "625/625 [==============================] - 1767s 3s/step - loss: 0.1662 - accuracy: 0.9431 - val_loss: 0.7359 - val_accuracy: 0.8146\n",
      "Epoch 42/50\n",
      "625/625 [==============================] - 1843s 3s/step - loss: 0.1667 - accuracy: 0.9430 - val_loss: 0.7516 - val_accuracy: 0.8150\n",
      "Epoch 43/50\n",
      "625/625 [==============================] - 1823s 3s/step - loss: 0.1615 - accuracy: 0.9466 - val_loss: 0.7172 - val_accuracy: 0.8165\n",
      "Epoch 44/50\n",
      "625/625 [==============================] - 1786s 3s/step - loss: 0.1607 - accuracy: 0.9446 - val_loss: 0.7573 - val_accuracy: 0.8100\n",
      "Epoch 45/50\n",
      "625/625 [==============================] - 1818s 3s/step - loss: 0.1555 - accuracy: 0.9466 - val_loss: 0.7523 - val_accuracy: 0.8162\n",
      "Epoch 46/50\n",
      "625/625 [==============================] - 1870s 3s/step - loss: 0.1558 - accuracy: 0.9475 - val_loss: 0.7463 - val_accuracy: 0.8146\n",
      "Epoch 47/50\n",
      "625/625 [==============================] - 1762s 3s/step - loss: 0.1566 - accuracy: 0.9473 - val_loss: 0.7631 - val_accuracy: 0.8138\n",
      "Epoch 48/50\n",
      "625/625 [==============================] - 1746s 3s/step - loss: 0.1509 - accuracy: 0.9493 - val_loss: 0.7731 - val_accuracy: 0.8103\n",
      "Epoch 49/50\n",
      "625/625 [==============================] - 1747s 3s/step - loss: 0.1472 - accuracy: 0.9500 - val_loss: 0.7747 - val_accuracy: 0.8125\n",
      "Epoch 50/50\n",
      "625/625 [==============================] - 1756s 3s/step - loss: 0.1462 - accuracy: 0.9508 - val_loss: 0.7863 - val_accuracy: 0.8147\n",
      "Wall time: 1d 52min 20s\n"
     ]
    }
   ],
   "source": [
    "%%time\n",
    "'''\n",
    "4.転移学習を行う\n",
    "'''\n",
    "from tensorflow.keras.preprocessing.image import ImageDataGenerator\n",
    "from tensorflow.keras.callbacks import LearningRateScheduler\n",
    "import math\n",
    "\n",
    "# ミニバッチのサイズ\n",
    "batch_size = 64\n",
    "\n",
    "# データ拡張\n",
    "datagen = ImageDataGenerator(\n",
    "    rescale=1.0/255.0,      # ピクセル値を255で割って正規化する\n",
    "    validation_split=0.2,   # 20パーセントのデータを検証用にする\n",
    "    rotation_range=15,      # 15度の範囲でランダムに回転させる\n",
    "    width_shift_range=0.1,  # 横サイズの0.1の割合でランダムに水平移動\n",
    "    height_shift_range=0.1, # 縦サイズの0.1の割合でランダムに垂直移動\n",
    "    zoom_range=0.2,         # ランダムに拡大\n",
    ")\n",
    "\n",
    "# 訓練データ用のジェネレーターを生成\n",
    "training_generator = datagen.flow(x_train, t_train,\n",
    "                                  batch_size=batch_size,\n",
    "                                  subset='training')      # 訓練用のデータを生成\n",
    "# 検証データ用のジェネレーターを生成\n",
    "validation_generator = datagen.flow(x_train, t_train,\n",
    "                                    batch_size=batch_size,\n",
    "                                    subset='validation') # 検証用のデータを生成\n",
    "\n",
    "# 学習率をスケジューリングする\n",
    "def step_decay(epoch):\n",
    "    initial_lrate = 0.001 # 学習率の初期値\n",
    "    drop = 0.5            # 減衰率は50%\n",
    "    epochs_drop = 10.0    # 10エポック毎に減衰する\n",
    "    lrate = initial_lrate * math.pow(\n",
    "        drop,\n",
    "        math.floor((epoch)/epochs_drop)\n",
    "    )\n",
    "    return lrate\n",
    "\n",
    "# 学習率のコールバック\n",
    "lrate = LearningRateScheduler(step_decay)\n",
    "\n",
    "# ファインチューニングモデルで学習する\n",
    "epochs = 50   # エポック数\n",
    "history = model.fit(\n",
    "    # 拡張データをミニバッチの数だけ生成\n",
    "    training_generator,\n",
    "    epochs=epochs,             # エポック数\n",
    "    verbose=1,                 # 学習の進捗状況を出力する\n",
    "    validation_data=validation_generator,\n",
    "    # エポック終了後にlrateをコールバック\n",
    "    # コールバックはリストで指定する\n",
    "    callbacks=[lrate]\n",
    ")"
   ]
  },
  {
   "cell_type": "code",
   "execution_count": 8,
   "metadata": {},
   "outputs": [
    {
     "data": {
      "image/png": "[encoded data removed]",
      "text/plain": [
       "<Figure size 432x288 with 1 Axes>"
      ]
     },
     "metadata": {
      "needs_background": "light"
     },
     "output_type": "display_data"
    },
    {
     "data": {
      "image/png": "[encoded data removed]",
      "text/plain": [
       "<Figure size 432x288 with 1 Axes>"
      ]
     },
     "metadata": {
      "needs_background": "light"
     },
     "output_type": "display_data"
    }
   ],
   "source": [
    "'''\n",
    "4.損失と精度の推移をグラフにする\n",
    "'''\n",
    "%matplotlib inline\n",
    "import matplotlib.pyplot as plt\n",
    "\n",
    "def plot_acc_loss(history):\n",
    "    # 精度の推移をプロット\n",
    "    plt.plot(history.history['accuracy'],\"-\",label=\"accuracy\")\n",
    "    plt.plot(history.history['val_accuracy'],\"-\",label=\"val_acc\")\n",
    "    plt.title('accuracy')\n",
    "    plt.xlabel('epoch')\n",
    "    plt.ylabel('accuracy')\n",
    "    plt.legend(loc=\"lower right\")\n",
    "    plt.show()\n",
    "\n",
    "    # 損失の推移をプロット\n",
    "    plt.plot(history.history['loss'],\"-\",label=\"loss\",)\n",
    "    plt.plot(history.history['val_loss'],\"-\",label=\"val_loss\")\n",
    "    plt.title('loss')\n",
    "    plt.xlabel('epoch')\n",
    "    plt.ylabel('loss')\n",
    "    plt.legend(loc='upper right')\n",
    "    plt.show()\n",
    "    \n",
    "# 損失と精度をグラフに出力\n",
    "plot_acc_loss(history)"
   ]
  },
  {
   "cell_type": "code",
   "execution_count": 15,
   "metadata": {},
   "outputs": [
    {
     "name": "stdout",
     "output_type": "stream",
     "text": [
      "test_loss: 0.7038375641107559\n",
      "test_acc: 0.8408\n"
     ]
    }
   ],
   "source": [
    "'''\n",
    "5. テストデータによるモデルの評価\n",
    "'''\n",
    "# テストデータをリサイズして正規化する\n",
    "x_test = tf.image.resize(x_test, [64, 64])\n",
    "x_test = x_test / 255.0\n",
    "\n",
    "# 学習済みのモデルにテストデータを入力して損失と精度を取得\n",
    "test_loss, test_acc = model.evaluate(x_test, t_test, verbose=0)\n",
    "print('test_loss:', test_loss)\n",
    "print('test_acc:', test_acc)"
   ]
  },
  {
   "cell_type": "code",
   "execution_count": null,
   "metadata": {},
   "outputs": [],
   "source": []
  }
 ],
 "metadata": {
  "kernelspec": {
   "display_name": "Python 3",
   "language": "python",
   "name": "python3"
  },
  "language_info": {
   "codemirror_mode": {
    "name": "ipython",
    "version": 3
   },
   "file_extension": ".py",
   "mimetype": "text/x-python",
   "name": "python",
   "nbconvert_exporter": "python",
   "pygments_lexer": "ipython3",
   "version": "3.7.7"
  }
 },
 "nbformat": 4,
 "nbformat_minor": 4
}
