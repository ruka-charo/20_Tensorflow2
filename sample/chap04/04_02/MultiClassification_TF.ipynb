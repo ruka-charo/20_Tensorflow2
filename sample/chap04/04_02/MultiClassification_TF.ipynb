{
 "cells": [
  {
   "cell_type": "code",
   "execution_count": 1,
   "metadata": {},
   "outputs": [
    {
     "name": "stdout",
     "output_type": "stream",
     "text": [
      "x_train: (1200, 2)\n",
      "t_train: (1200, 3)\n",
      "x_validation: (300, 2)\n",
      "t_validation: (300, 3)\n"
     ]
    }
   ],
   "source": [
    "'''\n",
    "1.データの用意\n",
    "'''\n",
    "import numpy as np\n",
    "from sklearn.model_selection import train_test_split\n",
    "\n",
    "# 乱数生成時のシード(種)\n",
    "np.random.seed(123)\n",
    "\n",
    "# 入力データの次元\n",
    "input_dim = 2 \n",
    "# クラスごとのデータ数\n",
    "n = 500       \n",
    "\n",
    "# 平均(0,6)の正規分布に従うデータを生成\n",
    "x1 = np.random.randn(n, input_dim) + np.array([0, 6])\n",
    "# 平均(4,3)の正規分布に従うデータを生成\n",
    "x2 = np.random.randn(n, input_dim) + np.array([4, 3])\n",
    "# 平均(8,0)の正規分布に従うデータを生成\n",
    "x3 = np.random.randn(n, input_dim) + np.array([8, 0])\n",
    "# x1の正解ラベル0を2階テンソルとして生成\n",
    "t1 = np.array([[1, 0, 0] for i in range(n)])\n",
    "# x2の正解ラベル1を2階テンソルとして生成\n",
    "t2 = np.array([[0, 1, 0] for i in range(n)])\n",
    "# x3の正解ラベル1を2階テンソルとして生成\n",
    "t3 = np.array([[0, 0, 1] for i in range(n)])\n",
    "\n",
    "# x1、x2、x3を行方向に連結\n",
    "x = np.concatenate((x1, x2, x3), axis=0)\n",
    "# t1、t2、t3を行方向に連結\n",
    "t = np.concatenate((t1, t2, t3), axis=0)\n",
    "\n",
    "x = x.astype('float32') # 訓練データをfloat64からfloat32に変換\n",
    "t = t.astype('float32') # 正解ラベルをfloat64からfloat32に変換\n",
    "\n",
    "# 訓練データと検証データに8：2の割合で分割  \\は行継続文字\n",
    "x_train, x_validation, t_train, t_validation = \\\n",
    "    train_test_split(x, t, test_size=0.2)\n",
    "\n",
    "print('x_train:', x_train.shape)\n",
    "print('t_train:', t_train.shape)\n",
    "print('x_validation:', x_validation.shape)\n",
    "print('t_validation:', t_validation.shape)"
   ]
  },
  {
   "cell_type": "code",
   "execution_count": 2,
   "metadata": {
    "scrolled": true
   },
   "outputs": [
    {
     "data": {
      "image/png": "[encoded data removed]",
      "text/plain": [
       "<Figure size 432x288 with 1 Axes>"
      ]
     },
     "metadata": {
      "needs_background": "light"
     },
     "output_type": "display_data"
    }
   ],
   "source": [
    "'''\n",
    "2.データをグラフにする\n",
    "'''\n",
    "import matplotlib.pyplot as plt\n",
    "# グラフのインライン表示\n",
    "%matplotlib inline\n",
    "\n",
    "\n",
    "# 正解が0のデータをプロット\n",
    "plt.plot(x[:500,0], x[:500,1], 'o', color='blue', markersize=2)\n",
    "# 正解が1のデータをプロット\n",
    "plt.plot(x[500:1000,0], x[500:1000,1], 'v', color='red', markersize=2)\n",
    "# 正解が1のデータをプロット\n",
    "plt.plot(x[1000:,0], x[1000:,1], 'o', color='green', markersize=2)\n",
    "plt.show()"
   ]
  },
  {
   "cell_type": "code",
   "execution_count": 3,
   "metadata": {},
   "outputs": [],
   "source": [
    "'''\n",
    "3.モデルの作成\n",
    "'''\n",
    "import tensorflow as tf\n",
    "\n",
    "class MLP(tf.keras.Model):\n",
    "    '''多層パーセプトロン\n",
    "    \n",
    "    Attributes:\n",
    "      l1(Dense): 隠れ層\n",
    "      l2(Dense): 出力層\n",
    "    '''\n",
    "    def __init__(self, hidden_dim, output_dim):\n",
    "        '''\n",
    "        Parameters:\n",
    "          hidden_dim(int): 隠れ層のユニット数(次元)\n",
    "          output_dim(int): 出力層のユニット数(次元)\n",
    "        '''\n",
    "        super().__init__()\n",
    "        # 隠れ層：活性化関数はシグモイド\n",
    "        self.l1 = tf.keras.layers.Dense(hidden_dim, activation='sigmoid')\n",
    "        # 出力層：活性化関数はソフトマックス\n",
    "        self.l2 = tf.keras.layers.Dense(output_dim, activation='softmax')\n",
    "\n",
    "    def call(self, x):\n",
    "        '''MLPのインスタンスからコールバックされる関数\n",
    "        \n",
    "        Parameters: x(ndarray(float32)):訓練データ、または検証データ\n",
    "        Returns(float32): MLPの出力として要素数3の1階テンソル        \n",
    "        '''\n",
    "        h = self.l1(x) # 第1層の出力\n",
    "        y = self.l2(h) # 出力層の出力\n",
    "        return y"
   ]
  },
  {
   "cell_type": "code",
   "execution_count": 4,
   "metadata": {},
   "outputs": [],
   "source": [
    "'''\n",
    "4.損失関数の定義\n",
    "'''\n",
    "# マルチクラス分類のクロスエントロピー誤差を求めるオブジェクト\n",
    "cce = tf.keras.losses.CategoricalCrossentropy()\n",
    "\n",
    "def loss(t, y):\n",
    "    '''損失関数\n",
    "    Parameters: t(ndarray(float32)):正解ラベル\n",
    "                y(ndarray(float32)):予測値\n",
    "                \n",
    "    Returns: クロスエントロピー誤差\n",
    "    '''\n",
    "    return cce(t, y)"
   ]
  },
  {
   "cell_type": "code",
   "execution_count": 5,
   "metadata": {},
   "outputs": [],
   "source": [
    "'''\n",
    "5.勾配降下アルゴリズムによるパラメーターの更新処理\n",
    "'''\n",
    "# 勾配降下アルゴリズムを使用するオプティマイザーを生成\n",
    "optimizer = tf.keras.optimizers.SGD(learning_rate=0.1)\n",
    "\n",
    "# 損失を記録するオブジェクトを生成\n",
    "train_loss = tf.keras.metrics.Mean()\n",
    "# カテゴリカルデータの精度を記録するオブジェクトを生成\n",
    "train_acc = tf.keras.metrics.CategoricalAccuracy()\n",
    "\n",
    "def train_step(x, t):\n",
    "    '''学習を1回行う\n",
    "    \n",
    "    Parameters: x(ndarray(float32)):訓練データ\n",
    "                t(ndarray(float32)):正解ラベル\n",
    "                \n",
    "    Returns:\n",
    "      ステップごとのクロスエントロピー誤差\n",
    "    '''\n",
    "    # 自動微分による勾配計算を記録するブロック\n",
    "    with tf.GradientTape() as tape:\n",
    "        # モデルに入力して順伝搬の出力値を取得\n",
    "        outputs = model(x)\n",
    "        # 出力値と正解ラベルの誤差\n",
    "        tmp_loss = loss(t, outputs)\n",
    "        \n",
    "    # tapeに記録された操作を使用して誤差の勾配を計算        \n",
    "    grads = tape.gradient(\n",
    "        # 現在のステップの誤差\n",
    "        tmp_loss,\n",
    "        # バイアス、重みのリストを取得\n",
    "        model.trainable_variables)\n",
    "    # 勾配降下法の更新式を適用してバイアス、重みを更新\n",
    "    optimizer.apply_gradients(zip(grads,\n",
    "                                  model.trainable_variables))\n",
    "    \n",
    "    # 損失をMeanオブジェクトに記録\n",
    "    train_loss(tmp_loss)\n",
    "    # 精度をCategoricalAccuracyオブジェクトに記録\n",
    "    train_acc(t, outputs)\n",
    "        \n",
    "    return tmp_loss"
   ]
  },
  {
   "cell_type": "code",
   "execution_count": 6,
   "metadata": {},
   "outputs": [
    {
     "name": "stdout",
     "output_type": "stream",
     "text": [
      "epoch(20) train_loss: 0.6181 train_acc: 0.7513\n",
      "epoch(40) train_loss: 0.4978 train_acc: 0.8339\n",
      "epoch(60) train_loss: 0.4323 train_acc: 0.872\n",
      "epoch(80) train_loss: 0.388 train_acc: 0.8935\n",
      "epoch(100) train_loss: 0.3551 train_acc: 0.9076\n",
      "epoch(120) train_loss: 0.3293 train_acc: 0.918\n",
      "epoch(140) train_loss: 0.3084 train_acc: 0.9258\n",
      "epoch(160) train_loss: 0.2908 train_acc: 0.9319\n",
      "epoch(180) train_loss: 0.274 train_acc: 0.9372\n",
      "epoch(200) train_loss: 0.2576 train_acc: 0.9418\n",
      "Model: \"mlp\"\n",
      "_________________________________________________________________\n",
      "Layer (type)                 Output Shape              Param #   \n",
      "=================================================================\n",
      "dense (Dense)                multiple                  6         \n",
      "_________________________________________________________________\n",
      "dense_1 (Dense)              multiple                  9         \n",
      "=================================================================\n",
      "Total params: 15\n",
      "Trainable params: 15\n",
      "Non-trainable params: 0\n",
      "_________________________________________________________________\n"
     ]
    }
   ],
   "source": [
    "'''\n",
    "6.モデルを生成して学習する\n",
    "'''\n",
    "from sklearn.utils import shuffle\n",
    "\n",
    "# エポック数\n",
    "epochs = 200\n",
    "# ミニバッチのサイズ\n",
    "batch_size = 32\n",
    "#ステップ数\n",
    "steps = x_train.shape[0] // batch_size\n",
    "\n",
    "# 隠れ層2ユニット、出力層3ユニットのモデルを生成\n",
    "model = MLP(2, 3)\n",
    "\n",
    "# 学習を行う\n",
    "for epoch in range(epochs):\n",
    "    # 訓練データと正解ラベルをシャッフル\n",
    "    x_, t_ = shuffle(x_train, t_train, random_state=1)\n",
    "    \n",
    "    # 1ステップにおけるミニバッチを使用した学習\n",
    "    for step in range(steps):\n",
    "        start = steps * step     # ミニバッチの先頭インデックス\n",
    "        end = start + batch_size # ミニバッチの末尾のインデックス\n",
    "        # ミニバッチでバイアス、重みを更新して誤差を取得\n",
    "        tmp_loss = train_step(x_[start:end], t_[start:end])\n",
    "\n",
    "    # 20エポックごとに結果を出力\n",
    "    if (epoch + 1) % 20 == 0:\n",
    "        print('epoch({}) train_loss: {:.4} train_acc: {:.4}'.format(\n",
    "            epoch+1,\n",
    "            train_loss.result(), # 現在の損失を出力\n",
    "            train_acc.result()   # 現在の精度を出力\n",
    "    ))\n",
    "\n",
    "# モデルの概要を出力\n",
    "model.summary()"
   ]
  },
  {
   "cell_type": "code",
   "execution_count": 7,
   "metadata": {},
   "outputs": [
    {
     "name": "stdout",
     "output_type": "stream",
     "text": [
      "validation_loss: 0.1044, validation_acc: 0.9867\n"
     ]
    }
   ],
   "source": [
    "'''\n",
    "モデルの評価\n",
    "'''\n",
    "# 検証データの予測値を取得\n",
    "val_preds = model(x_validation)\n",
    "# カテゴリカルデータの精度を取得するオブジェクト\n",
    "categor_acc = tf.keras.metrics.CategoricalAccuracy()\n",
    "# 精度を測定するデータを設定\n",
    "categor_acc.update_state(t_validation, val_preds)\n",
    "# 検証データの精度を取得\n",
    "validation_acc = categor_acc.result().numpy()\n",
    "# 検証データの損失を取得\n",
    "validation_loss = loss(t_validation, val_preds)\n",
    "\n",
    "print('validation_loss: {:.4f}, validation_acc: {:.4f}'.format(\n",
    "    validation_loss,\n",
    "    validation_acc\n",
    "))"
   ]
  },
  {
   "cell_type": "code",
   "execution_count": null,
   "metadata": {},
   "outputs": [],
   "source": []
  }
 ],
 "metadata": {
  "kernelspec": {
   "display_name": "Python 3",
   "language": "python",
   "name": "python3"
  },
  "language_info": {
   "codemirror_mode": {
    "name": "ipython",
    "version": 3
   },
   "file_extension": ".py",
   "mimetype": "text/x-python",
   "name": "python",
   "nbconvert_exporter": "python",
   "pygments_lexer": "ipython3",
   "version": "3.7.7"
  }
 },
 "nbformat": 4,
 "nbformat_minor": 4
}
