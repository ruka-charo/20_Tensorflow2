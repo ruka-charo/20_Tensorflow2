{
 "cells": [
  {
   "cell_type": "code",
   "execution_count": 1,
   "metadata": {},
   "outputs": [],
   "source": [
    "# NumPyのインポート\n",
    "import numpy as np\n",
    "\n",
    "# ソフトマックス関数を定義\n",
    "def softmax(x):\n",
    "    y = np.array(np.exp(x) / np.sum(np.exp(x)))\n",
    "    return y"
   ]
  },
  {
   "cell_type": "code",
   "execution_count": 2,
   "metadata": {},
   "outputs": [
    {
     "name": "stdout",
     "output_type": "stream",
     "text": [
      "[3.35308764e-04 9.99541338e-01 1.23353201e-04]\n",
      "0.9999999999999999\n"
     ]
    }
   ],
   "source": [
    "x = np.array([2, 10, 1]) # 成分が3の行ベクトル\n",
    "output =softmax(x)       # ソフトマックス関数の出力を取得\n",
    "print(output)\n",
    "print(sum(output))"
   ]
  },
  {
   "cell_type": "code",
   "execution_count": null,
   "metadata": {},
   "outputs": [],
   "source": []
  }
 ],
 "metadata": {
  "kernelspec": {
   "display_name": "Python 3",
   "language": "python",
   "name": "python3"
  },
  "language_info": {
   "codemirror_mode": {
    "name": "ipython",
    "version": 3
   },
   "file_extension": ".py",
   "mimetype": "text/x-python",
   "name": "python",
   "nbconvert_exporter": "python",
   "pygments_lexer": "ipython3",
   "version": "3.7.7"
  }
 },
 "nbformat": 4,
 "nbformat_minor": 4
}
