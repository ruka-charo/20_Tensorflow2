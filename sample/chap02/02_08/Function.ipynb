{
 "cells": [
  {
   "cell_type": "code",
   "execution_count": 1,
   "metadata": {},
   "outputs": [],
   "source": [
    "# 文字列を出力する関数\n",
    "\n",
    "def hello():                         # hello()関数の定義\n",
    "    print('こんにちは')"
   ]
  },
  {
   "cell_type": "code",
   "execution_count": 2,
   "metadata": {},
   "outputs": [
    {
     "name": "stdout",
     "output_type": "stream",
     "text": [
      "こんにちは\n"
     ]
    }
   ],
   "source": [
    "hello()"
   ]
  },
  {
   "cell_type": "code",
   "execution_count": 3,
   "metadata": {},
   "outputs": [],
   "source": [
    " # 2つのパラメーターを持つ関数\n",
    "\n",
    "def show_hello(name1, name2):\n",
    "    print(name1 + 'さん、こんにちは!')\n",
    "    print(name2 + 'さん、こんにちは!')"
   ]
  },
  {
   "cell_type": "code",
   "execution_count": 4,
   "metadata": {},
   "outputs": [
    {
     "name": "stdout",
     "output_type": "stream",
     "text": [
      "山田さん、こんにちは!\n",
      "鈴木さん、こんにちは!\n"
     ]
    }
   ],
   "source": [
    "show_hello('山田', '鈴木')    # 引数を2つ設定して関数を呼び出す"
   ]
  },
  {
   "cell_type": "code",
   "execution_count": 5,
   "metadata": {},
   "outputs": [],
   "source": [
    "# 戻り値を返す関数\n",
    "def return_hello(name1, name2):         # 2つのパラメーターを持つ関数\n",
    "    result = name1+ 'さん、' + name2 + 'さん、こんにちは!'\n",
    "    return result                       # 処理した文字列を戻り値として返す"
   ]
  },
  {
   "cell_type": "code",
   "execution_count": 6,
   "metadata": {},
   "outputs": [
    {
     "name": "stdout",
     "output_type": "stream",
     "text": [
      "山田さん、鈴木さん、こんにちは!\n"
     ]
    }
   ],
   "source": [
    "show = return_hello('山田', '鈴木')      # 引数を2つ設定して関数を呼び出す\n",
    "print(show)                              # 関数の戻り値を出力"
   ]
  },
  {
   "cell_type": "code",
   "execution_count": null,
   "metadata": {},
   "outputs": [],
   "source": []
  }
 ],
 "metadata": {
  "kernelspec": {
   "display_name": "Python 3",
   "language": "python",
   "name": "python3"
  },
  "language_info": {
   "codemirror_mode": {
    "name": "ipython",
    "version": 3
   },
   "file_extension": ".py",
   "mimetype": "text/x-python",
   "name": "python",
   "nbconvert_exporter": "python",
   "pygments_lexer": "ipython3",
   "version": "3.8.3"
  }
 },
 "nbformat": 4,
 "nbformat_minor": 4
}
