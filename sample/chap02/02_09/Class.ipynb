{
 "cells": [
  {
   "cell_type": "code",
   "execution_count": 1,
   "metadata": {},
   "outputs": [],
   "source": [
    "# クラス\n",
    "\n",
    "class Test:\n",
    "    def show(self, val):\n",
    "        print(self, val)    # selfとvalを出力"
   ]
  },
  {
   "cell_type": "code",
   "execution_count": 2,
   "metadata": {},
   "outputs": [
    {
     "data": {
      "text/plain": [
       "'Python'"
      ]
     },
     "execution_count": 2,
     "metadata": {},
     "output_type": "execute_result"
    }
   ],
   "source": [
    "s = str('Python')  # このようにも書けるが「str = 'Python'」と同じこと\n",
    "s"
   ]
  },
  {
   "cell_type": "code",
   "execution_count": 3,
   "metadata": {},
   "outputs": [
    {
     "name": "stdout",
     "output_type": "stream",
     "text": [
      "<__main__.Test object at 0x00000134CB940B80> こんにちは\n"
     ]
    }
   ],
   "source": [
    "test = Test()           # Testクラスをインスタンス化してオブジェクトの参照を代入\n",
    "test.show('こんにちは') # Testオブジェクトからshow()メソッドを実行"
   ]
  },
  {
   "cell_type": "code",
   "execution_count": 4,
   "metadata": {},
   "outputs": [],
   "source": [
    "# __init__()メソッド\n",
    "\n",
    "class Test2:\n",
    "    def __init__(self, val):\n",
    "        self.val = val\n",
    "        \n",
    "    def show(self):\n",
    "        print(self.val)    # self.valを出力"
   ]
  },
  {
   "cell_type": "code",
   "execution_count": 5,
   "metadata": {},
   "outputs": [
    {
     "name": "stdout",
     "output_type": "stream",
     "text": [
      "こんにちは\n"
     ]
    }
   ],
   "source": [
    "test2 = Test2('こんにちは') # Test2クラスをインスタンス化してオブジェクトの参照を代入\n",
    "test2.show()                # Test2オブジェクトからshow()メソッドを実行"
   ]
  },
  {
   "cell_type": "code",
   "execution_count": null,
   "metadata": {},
   "outputs": [],
   "source": []
  }
 ],
 "metadata": {
  "kernelspec": {
   "display_name": "Python 3",
   "language": "python",
   "name": "python3"
  },
  "language_info": {
   "codemirror_mode": {
    "name": "ipython",
    "version": 3
   },
   "file_extension": ".py",
   "mimetype": "text/x-python",
   "name": "python",
   "nbconvert_exporter": "python",
   "pygments_lexer": "ipython3",
   "version": "3.8.3"
  }
 },
 "nbformat": 4,
 "nbformat_minor": 4
}
